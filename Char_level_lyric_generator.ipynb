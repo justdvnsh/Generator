{
  "nbformat": 4,
  "nbformat_minor": 0,
  "metadata": {
    "colab": {
      "name": "Char-level-lyric-generator.ipynb",
      "version": "0.3.2",
      "provenance": [],
      "include_colab_link": true
    },
    "kernelspec": {
      "name": "python3",
      "display_name": "Python 3"
    },
    "accelerator": "GPU"
  },
  "cells": [
    {
      "cell_type": "markdown",
      "metadata": {
        "id": "view-in-github",
        "colab_type": "text"
      },
      "source": [
        "<a href=\"https://colab.research.google.com/github/justdvnsh/Generator/blob/master/Char_level_lyric_generator.ipynb\" target=\"_parent\"><img src=\"https://colab.research.google.com/assets/colab-badge.svg\" alt=\"Open In Colab\"/></a>"
      ]
    },
    {
      "metadata": {
        "id": "T255oTO7X0Vc",
        "colab_type": "code",
        "colab": {
          "base_uri": "https://localhost:8080/",
          "height": 34
        },
        "outputId": "44f3d350-561f-4d4a-f4fe-c45a2c18281a"
      },
      "cell_type": "code",
      "source": [
        "from __future__ import print_function\n",
        "from keras.callbacks import LambdaCallback\n",
        "from keras.models import Sequential\n",
        "from keras.layers import Dense, Activation\n",
        "from keras.layers import LSTM\n",
        "from keras.optimizers import RMSprop, Adam\n",
        "from keras.utils.data_utils import get_file\n",
        "import numpy as np\n",
        "import pandas as pd\n",
        "import random\n",
        "import sys\n",
        "import io\n",
        "import re"
      ],
      "execution_count": 1,
      "outputs": [
        {
          "output_type": "stream",
          "text": [
            "Using TensorFlow backend.\n"
          ],
          "name": "stderr"
        }
      ]
    },
    {
      "metadata": {
        "id": "490rXE6pYCyg",
        "colab_type": "code",
        "colab": {}
      },
      "cell_type": "code",
      "source": [
        "import pandas as pd"
      ],
      "execution_count": 0,
      "outputs": []
    },
    {
      "metadata": {
        "id": "z0Bk_7M0YKg0",
        "colab_type": "code",
        "colab": {
          "base_uri": "https://localhost:8080/",
          "height": 204
        },
        "outputId": "671f1dca-1a18-45fe-9570-faabf9949e87"
      },
      "cell_type": "code",
      "source": [
        "df = pd.read_csv('https://raw.githubusercontent.com/rasbt/musicmood/master/dataset/training/train_lyrics_1000.csv')\n",
        "df.head()"
      ],
      "execution_count": 3,
      "outputs": [
        {
          "output_type": "execute_result",
          "data": {
            "text/html": [
              "<div>\n",
              "<style scoped>\n",
              "    .dataframe tbody tr th:only-of-type {\n",
              "        vertical-align: middle;\n",
              "    }\n",
              "\n",
              "    .dataframe tbody tr th {\n",
              "        vertical-align: top;\n",
              "    }\n",
              "\n",
              "    .dataframe thead th {\n",
              "        text-align: right;\n",
              "    }\n",
              "</style>\n",
              "<table border=\"1\" class=\"dataframe\">\n",
              "  <thead>\n",
              "    <tr style=\"text-align: right;\">\n",
              "      <th></th>\n",
              "      <th>file</th>\n",
              "      <th>artist</th>\n",
              "      <th>title</th>\n",
              "      <th>lyrics</th>\n",
              "      <th>genre</th>\n",
              "      <th>mood</th>\n",
              "      <th>year</th>\n",
              "    </tr>\n",
              "  </thead>\n",
              "  <tbody>\n",
              "    <tr>\n",
              "      <th>0</th>\n",
              "      <td>TRAAAAW128F429D538.h5</td>\n",
              "      <td>Casual</td>\n",
              "      <td>I Didn't Mean To</td>\n",
              "      <td>Verse One:\\n\\nAlright I might\\nHave had a litt...</td>\n",
              "      <td>Hip Hop/Rap</td>\n",
              "      <td>sad</td>\n",
              "      <td>1994</td>\n",
              "    </tr>\n",
              "    <tr>\n",
              "      <th>1</th>\n",
              "      <td>TRAAAEF128F4273421.h5</td>\n",
              "      <td>Adam Ant</td>\n",
              "      <td>Something Girls</td>\n",
              "      <td>Adam Ant/Marco Pirroni\\nEvery girl is a someth...</td>\n",
              "      <td>Rock</td>\n",
              "      <td>happy</td>\n",
              "      <td>1982</td>\n",
              "    </tr>\n",
              "    <tr>\n",
              "      <th>2</th>\n",
              "      <td>TRAAAFD128F92F423A.h5</td>\n",
              "      <td>Gob</td>\n",
              "      <td>Face the Ashes</td>\n",
              "      <td>I've just erased it's been a while, I've got a...</td>\n",
              "      <td>Rock</td>\n",
              "      <td>sad</td>\n",
              "      <td>2007</td>\n",
              "    </tr>\n",
              "    <tr>\n",
              "      <th>3</th>\n",
              "      <td>TRAABJV128F1460C49.h5</td>\n",
              "      <td>Lionel Richie</td>\n",
              "      <td>Tonight Will Be Alright</td>\n",
              "      <td>Little darling \\nWhere you've been so long \\nI...</td>\n",
              "      <td>R&amp;B</td>\n",
              "      <td>happy</td>\n",
              "      <td>1986</td>\n",
              "    </tr>\n",
              "    <tr>\n",
              "      <th>4</th>\n",
              "      <td>TRAABLR128F423B7E3.h5</td>\n",
              "      <td>Blue Rodeo</td>\n",
              "      <td>Floating</td>\n",
              "      <td>Lead Vocal by Greg\\n\\nWell, these late night c...</td>\n",
              "      <td>Rock</td>\n",
              "      <td>sad</td>\n",
              "      <td>1987</td>\n",
              "    </tr>\n",
              "  </tbody>\n",
              "</table>\n",
              "</div>"
            ],
            "text/plain": [
              "                    file         artist                    title  \\\n",
              "0  TRAAAAW128F429D538.h5         Casual         I Didn't Mean To   \n",
              "1  TRAAAEF128F4273421.h5       Adam Ant          Something Girls   \n",
              "2  TRAAAFD128F92F423A.h5            Gob           Face the Ashes   \n",
              "3  TRAABJV128F1460C49.h5  Lionel Richie  Tonight Will Be Alright   \n",
              "4  TRAABLR128F423B7E3.h5     Blue Rodeo                 Floating   \n",
              "\n",
              "                                              lyrics        genre   mood  year  \n",
              "0  Verse One:\\n\\nAlright I might\\nHave had a litt...  Hip Hop/Rap    sad  1994  \n",
              "1  Adam Ant/Marco Pirroni\\nEvery girl is a someth...         Rock  happy  1982  \n",
              "2  I've just erased it's been a while, I've got a...         Rock    sad  2007  \n",
              "3  Little darling \\nWhere you've been so long \\nI...          R&B  happy  1986  \n",
              "4  Lead Vocal by Greg\\n\\nWell, these late night c...         Rock    sad  1987  "
            ]
          },
          "metadata": {
            "tags": []
          },
          "execution_count": 3
        }
      ]
    },
    {
      "metadata": {
        "id": "Jmr4h3KFYNPW",
        "colab_type": "code",
        "colab": {
          "base_uri": "https://localhost:8080/",
          "height": 34
        },
        "outputId": "b4ed9d1c-710f-4777-8e8d-41b832c02214"
      },
      "cell_type": "code",
      "source": [
        "text = ''\n",
        "# merge all the lyrics together into one huge string\n",
        "for index, row in df['lyrics'].iteritems():\n",
        "    text = text + str(row).lower()\n",
        "    \n",
        "# find all the unique chracters\n",
        "chars = sorted(list(set(text)))\n",
        "print('total chars:', len(chars))\n",
        "\n",
        "# create a dictionary mapping chracter-to-index\n",
        "char_indices = dict((c, i) for i, c in enumerate(chars))\n",
        "\n",
        "# create a dictionary mapping index-to-chracter\n",
        "indices_char = dict((i, c) for i, c in enumerate(chars))\n",
        "\n",
        "# cut the text into sequences\n",
        "maxlen = 20\n",
        "step = 1 # step size at every iteration\n",
        "sentences = [] # list of sequences\n",
        "next_chars = [] # list of next chracters that our model should predict\n",
        "\n",
        "# iterate over text and save sequences into lists\n",
        "for i in range(0, len(text) - maxlen, step):\n",
        "    sentences.append(text[i: i + maxlen])\n",
        "    next_chars.append(text[i + maxlen])\n",
        "    \n",
        "# create empty matrices for input and output sets \n",
        "x = np.zeros((len(sentences), maxlen, len(chars)), dtype=np.bool)\n",
        "y = np.zeros((len(sentences), len(chars)), dtype=np.bool)\n",
        "\n",
        "# iterate over the matrices and convert all characters to numbers\n",
        "# basically Label Encoding process and One Hot vectorization\n",
        "for i, sentence in enumerate(sentences):\n",
        "    for t, char in enumerate(sentence):\n",
        "        x[i, t, char_indices[char]] = 1\n",
        "    y[i, char_indices[next_chars[i]]] = 1"
      ],
      "execution_count": 6,
      "outputs": [
        {
          "output_type": "stream",
          "text": [
            "total chars: 93\n"
          ],
          "name": "stdout"
        }
      ]
    },
    {
      "metadata": {
        "id": "2dnrR0GIYoXX",
        "colab_type": "code",
        "colab": {
          "base_uri": "https://localhost:8080/",
          "height": 255
        },
        "outputId": "741338b0-bd14-461a-c1e2-c094c5a5595f"
      },
      "cell_type": "code",
      "source": [
        "print('Build model...')\n",
        "model = Sequential()\n",
        "model.add(LSTM(128, input_shape=(maxlen, len(chars))))\n",
        "model.add(Dense(len(chars)))\n",
        "model.add(Activation('softmax'))\n",
        "\n",
        "model.compile(loss='categorical_crossentropy', optimizer=RMSprop(lr=0.01))\n",
        "\n",
        "model.summary()"
      ],
      "execution_count": 7,
      "outputs": [
        {
          "output_type": "stream",
          "text": [
            "Build model...\n",
            "_________________________________________________________________\n",
            "Layer (type)                 Output Shape              Param #   \n",
            "=================================================================\n",
            "lstm_1 (LSTM)                (None, 128)               113664    \n",
            "_________________________________________________________________\n",
            "dense_1 (Dense)              (None, 93)                11997     \n",
            "_________________________________________________________________\n",
            "activation_1 (Activation)    (None, 93)                0         \n",
            "=================================================================\n",
            "Total params: 125,661\n",
            "Trainable params: 125,661\n",
            "Non-trainable params: 0\n",
            "_________________________________________________________________\n"
          ],
          "name": "stdout"
        }
      ]
    },
    {
      "metadata": {
        "id": "inPpglLwYz3g",
        "colab_type": "code",
        "colab": {}
      },
      "cell_type": "code",
      "source": [
        "def sample(preds, temperature=1.0):\n",
        "    preds = np.asarray(preds).astype('float64')\n",
        "    preds = np.log(preds) / temperature\n",
        "    exp_preds = np.exp(preds)\n",
        "    preds = exp_preds / np.sum(exp_preds)\n",
        "    probas = np.random.multinomial(1, preds, 1)\n",
        "    return np.argmax(probas)"
      ],
      "execution_count": 0,
      "outputs": []
    },
    {
      "metadata": {
        "id": "EUBwqm_3Y31r",
        "colab_type": "code",
        "colab": {}
      },
      "cell_type": "code",
      "source": [
        "def on_epoch_end(epoch, logs):\n",
        "    print('----- Generating text after Epoch: %d' % epoch)\n",
        "\n",
        "    start_index = random.randint(0, len(text) - maxlen - 1)\n",
        "    for diversity in [0.2, 0.5]:\n",
        "        print('----- diversity:', diversity)\n",
        "\n",
        "        generated = ''\n",
        "        sentence = text[start_index: start_index + maxlen]\n",
        "        generated += sentence\n",
        "        print('----- Generating with seed: \"' + sentence + '\"')\n",
        "        sys.stdout.write(generated)\n",
        "\n",
        "        for i in range(400):\n",
        "            x_pred = np.zeros((1, maxlen, len(chars)))\n",
        "            for t, char in enumerate(sentence):\n",
        "                x_pred[0, t, char_indices[char]] = 1.\n",
        "\n",
        "            preds = model.predict(x_pred, verbose=0)[0]\n",
        "            next_index = sample(preds, diversity)\n",
        "            next_char = indices_char[next_index]\n",
        "\n",
        "            generated += next_char\n",
        "            sentence = sentence[1:] + next_char\n",
        "\n",
        "            sys.stdout.write(next_char)\n",
        "            sys.stdout.flush()\n",
        "        print()"
      ],
      "execution_count": 0,
      "outputs": []
    },
    {
      "metadata": {
        "id": "xfxuCTQ4Y5hn",
        "colab_type": "code",
        "colab": {
          "base_uri": "https://localhost:8080/",
          "height": 1496
        },
        "outputId": "7305f285-20dc-4f32-f71d-cfc4e3370dda"
      },
      "cell_type": "code",
      "source": [
        "print_callback = LambdaCallback(on_epoch_end=on_epoch_end)\n",
        "\n",
        "history = model.fit(\n",
        "    x, \n",
        "    y,\n",
        "    batch_size=128,\n",
        "    epochs=2,\n",
        "    callbacks=[print_callback]\n",
        ")"
      ],
      "execution_count": 10,
      "outputs": [
        {
          "output_type": "stream",
          "text": [
            "Epoch 1/2\n",
            "1231455/1231455 [==============================] - 487s 396us/step - loss: 1.6727\n",
            "----- Generating text after Epoch: 0\n",
            "----- diversity: 0.2\n",
            "----- Generating with seed: \"nce were true\n",
            "send m\"\n",
            "nce were true\n",
            "send me the sunling to the broken\n",
            "i said the sunling and so it do it to the sun\n",
            "\n",
            "i was the sun\n",
            "\n",
            "i love you so i can take the street\n",
            "\n",
            "the story was the world and the storls and the good to me\n",
            "\n",
            "i sail the more i said\n",
            "\n",
            "and i said the speak it all the say\n",
            "\n",
            "i don't know what i can't see the ground\n",
            "i don't know what you say\n",
            "\n",
            "i don't know what you say the say the speed to the say\n",
            "\n",
            "i love you to the say\n",
            "\n",
            "i was \n",
            "----- diversity: 0.5\n",
            "----- Generating with seed: \"nce were true\n",
            "send m\"\n",
            "nce were true\n",
            "send me and the sprong in the destroy\n",
            "start and say\n",
            "\n",
            "dance the love in the girl when we said that soon\n",
            "\n",
            "and i can't want to know\n",
            "\n",
            "but the love thing he's sure the floor to me with the sun\n",
            "oh-oh-oo-oh oh, oh-oooooohooooooooooow good for the sounding love\n",
            "and the fute we gonna get it to be a started\n",
            "what it to get my proce\n",
            "the say i was to you stone heart she can get a thing i love to cover to you can sta\n",
            "Epoch 2/2\n",
            "1231455/1231455 [==============================] - 473s 384us/step - loss: 1.5316\n",
            "----- Generating text after Epoch: 1\n",
            "----- diversity: 0.2\n",
            "----- Generating with seed: \"ces\n",
            "braces the fact \"\n",
            "ces\n",
            "braces the fact of the more\n",
            "i'm still stare that i could see you and the streets\n",
            "i've got a little little give a little give it all the save\n",
            "i see the streets\n",
            "i can't see the streets\n",
            "\n",
            "i can't wait to be still be the streets\n",
            "i'm a play the streets and the start of the streets\n",
            "i've got a stand of the streets\n",
            "i can't see you the cold and i'm a start the searching the streets and the things i can't see the streets\n",
            "i \n",
            "----- diversity: 0.5\n",
            "----- Generating with seed: \"ces\n",
            "braces the fact \"\n",
            "ces\n",
            "braces the fact the right and beautiful\n",
            "\n",
            "say of the streets\n",
            "do you and me in the believe for me and shape and the way of the place \n",
            "it's hot so lonely and the mind\n",
            "\n",
            "thinkin' in the room\n",
            "\n",
            "\n",
            "keep your head in the streets\n",
            "i stand all the streetion old of the fire\n",
            "the bed like the little call of the floor\n",
            "\n",
            "yeah\n",
            "\n",
            "we gon' let the one\n",
            "there is a little last\n",
            "i'm in your lead\n",
            "i'll fold me and my life\n",
            "\n",
            "i got your doin the m\n"
          ],
          "name": "stdout"
        }
      ]
    },
    {
      "metadata": {
        "id": "GPbyPmNAY9Na",
        "colab_type": "code",
        "colab": {}
      },
      "cell_type": "code",
      "source": [
        "def generate_output():\n",
        "    generated = ''\n",
        "    usr_input = input(\"Write the beginning of your poem, the machine will complete it. Your input is: \")\n",
        "\n",
        "    sentence = ('{0:0>' + str(Tx) + '}').format(usr_input).lower()\n",
        "    generated += usr_input \n",
        "\n",
        "    sys.stdout.write(\"\\n\\nHere is your poem: \\n\\n\") \n",
        "    sys.stdout.write(usr_input)\n",
        "    for i in range(400):\n",
        "\n",
        "        x_pred = np.zeros((1, Tx, len(chars)))\n",
        "\n",
        "        for t, char in enumerate(sentence):\n",
        "            if char != '0':\n",
        "                x_pred[0, t, char_indices[char]] = 1.\n",
        "\n",
        "        preds = model.predict(x_pred, verbose=0)[0]\n",
        "        next_index = sample(preds, temperature = 0.2)\n",
        "        next_char = indices_char[next_index]\n",
        "\n",
        "        generated += next_char\n",
        "        sentence = sentence[1:] + next_char\n",
        "\n",
        "        sys.stdout.write(next_char)\n",
        "        sys.stdout.flush()\n",
        "\n",
        "        if next_char == '\\n':\n",
        "            continue"
      ],
      "execution_count": 0,
      "outputs": []
    },
    {
      "metadata": {
        "id": "4SxGEM75cxoJ",
        "colab_type": "code",
        "colab": {
          "base_uri": "https://localhost:8080/",
          "height": 357
        },
        "outputId": "93044995-bf46-43a8-a320-284ad8d65a88"
      },
      "cell_type": "code",
      "source": [
        "Tx = 20\n",
        "generate_output()"
      ],
      "execution_count": 18,
      "outputs": [
        {
          "output_type": "stream",
          "text": [
            "Write the beginning of your poem, the machine will complete it. Your input is: this is ai generated\n",
            "\n",
            "\n",
            "Here is your poem: \n",
            "\n",
            "this is ai generated\n",
            "\n",
            "i'm started of the beat\n",
            "\n",
            "i can't be a little be the started of the beat\n",
            "\n",
            "can see the streets and the streets\n",
            "i've got a way to see the changer\n",
            "i can't be the started to the things i want to be the streets\n",
            "i'm a beautiful the same and i ain't the way to be there and i want to be the streets\n",
            "i can't be the shit\n",
            "i'm a way in the streets\n",
            "i've got a little be still be still be the reason\n",
            "\n",
            "i'm a way o"
          ],
          "name": "stdout"
        }
      ]
    },
    {
      "metadata": {
        "id": "FLftGDhwc6fC",
        "colab_type": "code",
        "colab": {}
      },
      "cell_type": "code",
      "source": [
        ""
      ],
      "execution_count": 0,
      "outputs": []
    }
  ]
}